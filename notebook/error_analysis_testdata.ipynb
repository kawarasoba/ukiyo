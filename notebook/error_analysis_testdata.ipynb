{
 "cells": [
  {
   "cell_type": "markdown",
   "metadata": {},
   "source": [
    "## evaluate for Classification with sklearn"
   ]
  },
  {
   "cell_type": "code",
   "execution_count": 1,
   "metadata": {},
   "outputs": [],
   "source": [
    "import torch\n",
    "import os\n",
    "import torch.nn as nn\n",
    "import torch.optim as optim\n",
    "from tqdm import tqdm\n",
    "import pandas as pd\n",
    "import numpy as np\n",
    "from sklearn.metrics import confusion_matrix,classification_report\n",
    "# augmentation\n",
    "from albumentations.augmentations.transforms import Resize,Normalize\n",
    "from albumentations import Compose\n",
    "\n",
    "from dataset import load_train_data\n",
    "from dataset import UkiyoeTestDataset\n",
    "from dataset import UkiyoeTrainDataset\n",
    "\n",
    "import models\n",
    "import constants as cons\n",
    "from convenient_function import fix_model_state_dict"
   ]
  },
  {
   "cell_type": "code",
   "execution_count": 2,
   "metadata": {},
   "outputs": [],
   "source": [
    "train_images_path ='data'\n",
    "train_labels_path ='data'\n",
    "params_path ='params'\n",
    "\n",
    "PARAM_LIST = [\n",
    "    {'model':'/model_dense/densenet161/fold0/model_dense_880.pth','fix':False,'ratio':1},\n",
    "    {'model':'/aug_decrease_effi_b3/efficientnet_b3/fold0/aug_decrease_effi_b3_790.pth','fix':True,'ratio':1},\n",
    "    {'model':'/model_effi_b3/efficientnet_b3/fold0/model_effi_b3_980.pth','fix':True,'ratio':1},\n",
    "    {'model':'/model_effi_b3_sampling/efficientnet_b3/fold0/with_pseudo_labeling/model_effi_b3_sampling_best.pth','fix':False,'ratio':2},\n",
    "    {'model':'/model_senet154/senet154/fold0/model_senet154_680.pth','fix':True,'ratio':1},\n",
    "    {'model':'/partical_augmentation/senet154/fold0/partical_augmentation_380.pth','fix':True,'ratio':1},\n",
    "    {'model':'/se_oversampling/se_resnet50/fold0/se_oversampling_490.pth','fix':False,'ratio':3},\n",
    "    {'model':'/ince3_w/inceptionv3/fold0/ince3_weight_670.pth','fix':False,'ratio':3}\n",
    "]\n",
    "DATA_LIST = []"
   ]
  },
  {
   "cell_type": "code",
   "execution_count": 3,
   "metadata": {},
   "outputs": [],
   "source": [
    "def valid_loop(model, loader,data_len):\n",
    "    model.eval()\n",
    "    output = np.zeros((data_len,cons.NUM_CLASSES))\n",
    "    label = np.zeros((data_len,cons.NUM_CLASSES))\n",
    "    with torch.no_grad():\n",
    "        for idx, feed in enumerate(tqdm(loader)):\n",
    "            inputs, labels = feed\n",
    "            inputs, labels = inputs.cuda(),labels.cuda()\n",
    "            #forward\n",
    "            outputs = torch.sigmoid(model(inputs))\n",
    "            output[idx] = outputs.data.cpu().numpy()\n",
    "            label[idx] = labels.data.cpu().numpy()\n",
    "    return output,label"
   ]
  },
  {
   "cell_type": "code",
   "execution_count": 4,
   "metadata": {},
   "outputs": [],
   "source": [
    "def confidence_check(pred,confidence,data_len):\n",
    "    inference_ratio = np.sum(np.identity(cons.NUM_CLASSES)[pred],axis=0)\n",
    "\n",
    "    print(inference_ratio)"
   ]
  },
  {
   "cell_type": "code",
   "execution_count": 5,
   "metadata": {},
   "outputs": [
    {
     "name": "stdout",
     "output_type": "stream",
     "text": [
      "397\n",
      "(397, tensor([[[254, 255, 246,  ..., 253, 239, 252],\n",
      "         [253, 255, 245,  ..., 255, 240, 247],\n",
      "         [248, 254, 247,  ..., 255, 247, 250],\n",
      "         ...,\n",
      "         [248, 251, 249,  ..., 243, 233, 250],\n",
      "         [245, 252, 246,  ..., 238, 235, 245],\n",
      "         [244, 254, 244,  ..., 247, 241, 233]],\n",
      "\n",
      "        [[234, 235, 224,  ..., 240, 228, 244],\n",
      "         [232, 235, 223,  ..., 246, 229, 236],\n",
      "         [227, 234, 225,  ..., 244, 234, 239],\n",
      "         ...,\n",
      "         [239, 240, 238,  ..., 236, 227, 245],\n",
      "         [235, 241, 234,  ..., 238, 235, 246],\n",
      "         [234, 242, 232,  ..., 250, 245, 236]],\n",
      "\n",
      "        [[233, 230, 213,  ..., 221, 208, 223],\n",
      "         [231, 230, 212,  ..., 224, 209, 216],\n",
      "         [224, 227, 212,  ..., 223, 215, 219],\n",
      "         ...,\n",
      "         [230, 234, 232,  ..., 226, 227, 251],\n",
      "         [233, 239, 234,  ..., 230, 235, 251],\n",
      "         [233, 244, 234,  ..., 241, 246, 243]]], dtype=torch.uint8))\n"
     ]
    }
   ],
   "source": [
    "dataset = UkiyoeTestDataset(data_path='data')\n",
    "print(dataset.__len__())\n",
    "print(dataset.__getitem__(396))"
   ]
  },
  {
   "cell_type": "code",
   "execution_count": 7,
   "metadata": {},
   "outputs": [
    {
     "name": "stdout",
     "output_type": "stream",
     "text": [
      "631\n",
      "(array([[[0.8745099 , 0.9294118 , 0.86666673],\n",
      "        [0.882353  , 0.93725497, 0.8745099 ],\n",
      "        [0.882353  , 0.93725497, 0.8745099 ],\n",
      "        ...,\n",
      "        [0.9215687 , 0.9215687 , 0.9058824 ],\n",
      "        [0.9294118 , 0.91372555, 0.95294124],\n",
      "        [0.9294118 , 0.9058824 , 0.9607844 ]],\n",
      "\n",
      "       [[0.8745099 , 0.9294118 , 0.86666673],\n",
      "        [0.882353  , 0.93725497, 0.8745099 ],\n",
      "        [0.882353  , 0.93725497, 0.8745099 ],\n",
      "        ...,\n",
      "        [0.9215687 , 0.9215687 , 0.9058824 ],\n",
      "        [0.9294118 , 0.91372555, 0.95294124],\n",
      "        [0.9294118 , 0.9058824 , 0.9607844 ]],\n",
      "\n",
      "       [[0.882353  , 0.93725497, 0.8745099 ],\n",
      "        [0.882353  , 0.93725497, 0.8745099 ],\n",
      "        [0.882353  , 0.93725497, 0.8745099 ],\n",
      "        ...,\n",
      "        [0.9215687 , 0.9215687 , 0.9058824 ],\n",
      "        [0.9294118 , 0.91372555, 0.95294124],\n",
      "        [0.9294118 , 0.9058824 , 0.9607844 ]],\n",
      "\n",
      "       ...,\n",
      "\n",
      "       [[0.8588236 , 0.8352942 , 0.7960785 ],\n",
      "        [0.8431373 , 0.8352942 , 0.7960785 ],\n",
      "        [0.8431373 , 0.8352942 , 0.7960785 ],\n",
      "        ...,\n",
      "        [0.91372555, 0.8745099 , 0.85098046],\n",
      "        [0.9215687 , 0.882353  , 0.8588236 ],\n",
      "        [0.91372555, 0.8745099 , 0.85098046]],\n",
      "\n",
      "       [[0.8588236 , 0.8352942 , 0.7960785 ],\n",
      "        [0.8431373 , 0.8352942 , 0.7960785 ],\n",
      "        [0.8431373 , 0.8352942 , 0.7960785 ],\n",
      "        ...,\n",
      "        [0.9058824 , 0.86666673, 0.8431373 ],\n",
      "        [0.9215687 , 0.8588236 , 0.8431373 ],\n",
      "        [0.91372555, 0.85098046, 0.8352942 ]],\n",
      "\n",
      "       [[0.8588236 , 0.8352942 , 0.7960785 ],\n",
      "        [0.8431373 , 0.8352942 , 0.7960785 ],\n",
      "        [0.8431373 , 0.8352942 , 0.7960785 ],\n",
      "        ...,\n",
      "        [0.89019614, 0.85098046, 0.82745105],\n",
      "        [0.9058824 , 0.8431373 , 0.82745105],\n",
      "        [0.8980393 , 0.8352942 , 0.8196079 ]]], dtype=float32), array([0., 0., 0., 0., 0., 0., 1., 0., 0., 0.]))\n"
     ]
    }
   ],
   "source": [
    "dataset = UkiyoeTrainDataset(\n",
    "    train_images_path='data',\n",
    "    train_labels_path='data',\n",
    "    valid=True,\n",
    "    transform=Compose([\n",
    "        Resize(cons.IMAGE_SIZE,cons.IMAGE_SIZE),\n",
    "        Normalize(mean=(0.5,0.5,0.5),std=(0.5,0.5,0.5),max_pixel_value=255.0)],p=1),\n",
    "    as_numpy=True)\n",
    "\n",
    "print(dataset.__len__())\n",
    "print(dataset.__getitem__(1))"
   ]
  }
 ],
 "metadata": {
  "kernelspec": {
   "display_name": "Python 3",
   "language": "python",
   "name": "python3"
  },
  "language_info": {
   "codemirror_mode": {
    "name": "ipython",
    "version": 3
   },
   "file_extension": ".py",
   "mimetype": "text/x-python",
   "name": "python",
   "nbconvert_exporter": "python",
   "pygments_lexer": "ipython3",
   "version": "3.7.5"
  }
 },
 "nbformat": 4,
 "nbformat_minor": 2
}
