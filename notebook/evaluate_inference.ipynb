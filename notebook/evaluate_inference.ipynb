{
 "cells": [
  {
   "cell_type": "code",
   "execution_count": 1,
   "metadata": {},
   "outputs": [],
   "source": [
    "import torch\n",
    "import numpy as np\n",
    "import pandas as pd\n",
    "\n",
    "result_path = 'result/dense+effi_best2+se+seres+ince/inference_with_c.csv'\n",
    "result_path2 = 'result/test/inference_with_c.csv'"
   ]
  },
  {
   "cell_type": "code",
   "execution_count": 2,
   "metadata": {},
   "outputs": [
    {
     "name": "stdout",
     "output_type": "stream",
     "text": [
      "ratio: [72 85 35 27 48 23 51 17 19 20]\n"
     ]
    }
   ],
   "source": [
    "inference = np.squeeze(np.identity(10)[pd.read_csv(result_path).values[:,1:2].T.astype(np.int32)].astype(np.int32))\n",
    "inference_ratio = np.sum(inference,axis=0)\n",
    "print('ratio:',inference_ratio)"
   ]
  },
  {
   "cell_type": "code",
   "execution_count": 3,
   "metadata": {},
   "outputs": [
    {
     "name": "stdout",
     "output_type": "stream",
     "text": [
      "ratio: [72 83 37 27 45 25 46 19 23 20]\n"
     ]
    }
   ],
   "source": [
    "inference = np.squeeze(np.identity(10)[pd.read_csv(result_path2).values[:,1:2].T.astype(np.int32)].astype(np.int32))\n",
    "inference_ratio = np.sum(inference,axis=0)\n",
    "print('ratio:',inference_ratio)"
   ]
  },
  {
   "cell_type": "markdown",
   "metadata": {},
   "source": [
    "ratio: [71.8 82.9 36.9 26.9 44.8 25.0 46.0 19.0 23.0 19.8]"
   ]
  }
 ],
 "metadata": {
  "kernelspec": {
   "display_name": "Python 3",
   "language": "python",
   "name": "python3"
  },
  "language_info": {
   "codemirror_mode": {
    "name": "ipython",
    "version": 3
   },
   "file_extension": ".py",
   "mimetype": "text/x-python",
   "name": "python",
   "nbconvert_exporter": "python",
   "pygments_lexer": "ipython3",
   "version": "3.7.5"
  }
 },
 "nbformat": 4,
 "nbformat_minor": 2
}
